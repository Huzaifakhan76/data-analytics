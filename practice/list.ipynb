{
 "cells": [
  {
   "cell_type": "code",
   "execution_count": null,
   "metadata": {},
   "outputs": [],
   "source": [
    "a = [1,2,3]\n",
    "print(a, type(a))\n",
    "names = ['alice', 'bob' , 'charlie']\n",
    "print(names, type(names))\n",
    "data = ['apple', 50, 'mango' , 100 , 'orange' , 70]\n",
    "nestedlist = [[1,2,3], [4,5,6],[7,8]]\n",
    "print(data)\n",
    "print(nestedlist)\n",
    "duolicated_list = [1] * 10\n",
    "print(duplicated_list)\n",
    "print(list('vertex'))\n",
    "print('welcome to listing'.split())"
   ]
  },
  {
   "cell_type": "code",
   "execution_count": 5,
   "metadata": {},
   "outputs": [
    {
     "name": "stdout",
     "output_type": "stream",
     "text": [
      "first five number [11, 12, 13, 14, 15]\n"
     ]
    }
   ],
   "source": [
    "n = [11,12,13,14,15,16,17,18,19,20]\n",
    "print('first five number',n[:5])\n"
   ]
  },
  {
   "cell_type": "code",
   "execution_count": null,
   "metadata": {},
   "outputs": [],
   "source": [
    "print('first element =', n[0])\n",
    "print('last element', n[-1])\n",
    "print('last five', n[-5])\n",
    "print(\"except first 2 and last 2 =\" , n[2:-2])\n",
    "print(\"reverselist n\",[::-1])\n",
    "print('all even indexes', n[::2])\n",
    "print('all odd indexes', n[1::2])\n"
   ]
  },
  {
   "cell_type": "code",
   "execution_count": null,
   "metadata": {},
   "outputs": [],
   "source": [
    "fruits = ['apple', 'mango', 'orange']\n",
    "\n"
   ]
  },
  {
   "cell_type": "code",
   "execution_count": 8,
   "metadata": {},
   "outputs": [
    {
     "name": "stdout",
     "output_type": "stream",
     "text": [
      "<class 'list'>\n",
      "['fast and furious', 'tarzan ', 'jumangi', 'the bullet train', 'harry potter']\n",
      "5\n"
     ]
    }
   ],
   "source": [
    "movies = []\n",
    "print(type(movies))\n",
    "movies.append(\"fast and furious\")\n",
    "movies.append(\"tarzan \")\n",
    "movies.append(\"jumangi\")\n",
    "movies.append(\"the bullet train\")\n",
    "movies.append(\"harry potter\")\n",
    "print(movies)\n",
    "print(len(movies))"
   ]
  },
  {
   "cell_type": "code",
   "execution_count": 9,
   "metadata": {},
   "outputs": [
    {
     "name": "stdout",
     "output_type": "stream",
     "text": [
      "['fast and furious', '2 fast 2 furious', 'fast and furious', 'tokyo', 'fast and furious 6']\n",
      "['fast and furious', '2 fast 2 furious', 'fast and furious', ' fast and furious 4', 'tokyo', 'fast and furious 6']\n"
     ]
    }
   ],
   "source": [
    "ff = ['fast and furious', '2 fast 2 furious', 'fast and furious', 'tokyo']\n",
    "ff.append(\"fast and furious 6\")\n",
    "print(ff)\n",
    "ff.insert(3, ' fast and furious 4')\n",
    "print(ff)"
   ]
  },
  {
   "cell_type": "code",
   "execution_count": 10,
   "metadata": {},
   "outputs": [
    {
     "name": "stdout",
     "output_type": "stream",
     "text": [
      "[1, 2, 3, 4, 6, 7, 8, 9]\n",
      "[1, 2, 3, 4, 5, 6, 7, 8, 9]\n",
      "5\n"
     ]
    }
   ],
   "source": [
    "n = [1,2,3,6,7,8,9]\n",
    "n.insert(3,4)# on 3rd index insert value=4\n",
    "print(n)\n",
    "n.insert(4,5)#on 5th index insert value = 5\n",
    "print(n)\n",
    "n.insert(100,5)#invalid index , so it will insert at the end\n",
    "print(5)"
   ]
  },
  {
   "cell_type": "code",
   "execution_count": null,
   "metadata": {},
   "outputs": [],
   "source": [
    "#adding a list in a another list\n",
    "l1 =[1,2,3]\n",
    "l2 =[4,5,6]\n",
    "l3 =[7,8,9]\n",
    "l1.extend(12)\n",
    "print(11)\n",
    "print(12)\n",
    "l2.extend(13)\n",
    "print(12)\n",
    "l3.extend([1,2,3,4,5,5])\n",
    "print(13)\n"
   ]
  },
  {
   "cell_type": "code",
   "execution_count": 20,
   "metadata": {},
   "outputs": [
    {
     "name": "stdout",
     "output_type": "stream",
     "text": [
      "[1, 2, 4, 5, 6, 7, 8]\n"
     ]
    }
   ],
   "source": [
    "a = [1,2,3,4,5,6,7,8,]\n",
    "a.remove(3)\n",
    "print(a)"
   ]
  },
  {
   "cell_type": "markdown",
   "metadata": {},
   "source": [
    "pop() # last element \n",
    "pop() number \n",
    "remove() remove that element from list\n",
    "clear() remove that string or number from list"
   ]
  },
  {
   "cell_type": "code",
   "execution_count": 22,
   "metadata": {},
   "outputs": [
    {
     "ename": "TypeError",
     "evalue": "list.clear() takes no arguments (1 given)",
     "output_type": "error",
     "traceback": [
      "\u001b[1;31m---------------------------------------------------------------------------\u001b[0m",
      "\u001b[1;31mTypeError\u001b[0m                                 Traceback (most recent call last)",
      "Cell \u001b[1;32mIn[22], line 2\u001b[0m\n\u001b[0;32m      1\u001b[0m a \u001b[38;5;241m=\u001b[39m [\u001b[38;5;124m\"\u001b[39m\u001b[38;5;124mjumangi\u001b[39m\u001b[38;5;124m\"\u001b[39m, \u001b[38;5;124m'\u001b[39m\u001b[38;5;124mfast and furious\u001b[39m\u001b[38;5;124m'\u001b[39m ,]\n\u001b[1;32m----> 2\u001b[0m a\u001b[38;5;241m.\u001b[39mclear(\u001b[38;5;124m\"\u001b[39m\u001b[38;5;124mjumangi\u001b[39m\u001b[38;5;124m\"\u001b[39m)\n\u001b[0;32m      3\u001b[0m \u001b[38;5;28mprint\u001b[39m(a)\n",
      "\u001b[1;31mTypeError\u001b[0m: list.clear() takes no arguments (1 given)"
     ]
    }
   ],
   "source": [
    "a = [\"jumangi\", 'fast and furious' ,]\n",
    "a.clear(\"jumangi\")\n",
    "print(a)"
   ]
  },
  {
   "cell_type": "code",
   "execution_count": 23,
   "metadata": {},
   "outputs": [
    {
     "name": "stdout",
     "output_type": "stream",
     "text": [
      "1\n"
     ]
    }
   ],
   "source": [
    "x =[1,2,3,4,5,6,7,8]\n",
    "print(x.count(1))# # count how many times that extacly come  1  = 1 time\n"
   ]
  },
  {
   "cell_type": "code",
   "execution_count": null,
   "metadata": {},
   "outputs": [],
   "source": [
    "names = ['vijay', 'salman', 'rahul' ,'akbar']\n",
    "names.sort()\n",
    "print(names)\n",
    "names.sort(reverse=true)\n",
    "print(names)"
   ]
  },
  {
   "cell_type": "code",
   "execution_count": 24,
   "metadata": {},
   "outputs": [
    {
     "name": "stdout",
     "output_type": "stream",
     "text": [
      "['goku', 'naruto', 'luffy']\n",
      "luffy\n"
     ]
    }
   ],
   "source": [
    "heroes = [ 'goku' , 'naruto' , 'luffy']\n",
    "print(heroes)\n",
    "luffy_idx = heroes.index('luffy')\n",
    "print('luffy')\n"
   ]
  },
  {
   "cell_type": "code",
   "execution_count": 25,
   "metadata": {},
   "outputs": [
    {
     "name": "stdout",
     "output_type": "stream",
     "text": [
      "[1, 2, 3, 4, 5]\n",
      "[1, 2, 3, 4, 5]\n",
      "[1, 2, 3, 6]\n"
     ]
    }
   ],
   "source": [
    "x = [1,2,3]\n",
    "y = x\n",
    "z = x.copy()\n",
    "x.append(4)\n",
    "y.append(5)\n",
    "z.append(6)\n",
    "print(x)\n",
    "print(y)\n",
    "print(z)"
   ]
  },
  {
   "cell_type": "markdown",
   "metadata": {},
   "source": [
    "comprehension"
   ]
  },
  {
   "cell_type": "code",
   "execution_count": 29,
   "metadata": {},
   "outputs": [
    {
     "name": "stdout",
     "output_type": "stream",
     "text": [
      "[1]\n",
      "[1, 4]\n",
      "[1, 4, 9]\n",
      "[1, 4, 9, 16]\n",
      "[1, 4, 9, 16, 25]\n"
     ]
    }
   ],
   "source": [
    "x = [1,2,3,4,5]\n",
    "x2 = []\n",
    "for i in x:\n",
    "    z = i**2\n",
    "    x2.append(z)\n",
    "    print(x2)"
   ]
  },
  {
   "cell_type": "code",
   "execution_count": 31,
   "metadata": {},
   "outputs": [
    {
     "name": "stdout",
     "output_type": "stream",
     "text": [
      "[1, 2, 3, 4, 5, 6, 7, 8, 9, 10]\n",
      "[-9, -8, -7, -6, -5, -4, -3, -2, -1, 0]\n"
     ]
    }
   ],
   "source": [
    "x = [1,2,3,4,5,6,7,8,9,10]\n",
    "x2=[i-10  for i in x]\n",
    "print(x)\n",
    "print(x2)\n",
    "\n"
   ]
  },
  {
   "cell_type": "code",
   "execution_count": null,
   "metadata": {},
   "outputs": [],
   "source": [
    "x = [15 , 3 , 12 , 11 , 6 , 7]\n",
    "xeven2"
   ]
  },
  {
   "cell_type": "code",
   "execution_count": 32,
   "metadata": {},
   "outputs": [
    {
     "name": "stdout",
     "output_type": "stream",
     "text": [
      "[15, 19, 21, 22, 23, 25]\n",
      "[17]\n"
     ]
    }
   ],
   "source": [
    "x = [15,19,21,22,23,25]\n",
    "xeven =[i**2 for i in x if i%2==0]\n",
    "print(x)\n",
    "xodd = [i - 5 for i in x if i%2==0]\n",
    "print(xodd) "
   ]
  },
  {
   "cell_type": "code",
   "execution_count": 41,
   "metadata": {},
   "outputs": [
    {
     "name": "stdout",
     "output_type": "stream",
     "text": [
      "['a', 1, 2, 3, 'b', 'c', 'd', 4, 5, 5, 1, 1, 2]\n",
      "['a', 'b', 'c', 'd']\n"
     ]
    }
   ],
   "source": [
    "crap_list = ['a',1,2,3,'b','c','d',4,5,5,1,1,2]\n",
    "clean_list =[i for i in crap_list if isinstance(i , str)]\n",
    "print(crap_list)\n",
    "print(clean_list)"
   ]
  },
  {
   "cell_type": "code",
   "execution_count": 44,
   "metadata": {},
   "outputs": [
    {
     "name": "stdout",
     "output_type": "stream",
     "text": [
      "[1, 2, 3]\n"
     ]
    }
   ],
   "source": [
    "# make all the input to a int list\n",
    "nums = [int(n) for n in input(\"enter a number\").split()]\n",
    "print(nums)"
   ]
  },
  {
   "cell_type": "code",
   "execution_count": null,
   "metadata": {},
   "outputs": [],
   "source": []
  },
  {
   "cell_type": "markdown",
   "metadata": {},
   "source": [
    "data structures\n",
    "list         tuple     set         dict\n",
    "indexed      indexed unindexed unindexed\n",
    "ordered      ordered  unordered ordered\n",
    "[ ]              ()   {}          {}\n",
    "list()           tuple() set()   dict()\n",
    "duplicates  duplicate uniquie    value duplicate\n",
    "mutable immutable  immutable     mutable            mutable\n",
    "single         single     single            keyvalue pains"
   ]
  },
  {
   "cell_type": "code",
   "execution_count": null,
   "metadata": {},
   "outputs": [],
   "source": [
    "a = (1,2,3,4,5,6,7)\n",
    "print(a, type(a))\n",
    "b =1 ,2,3,4\n",
    "print(b,type(b))\n",
    "c=(1,)\n",
    "print(c)\n",
    "d = (1)\n",
    "e = tuple[(1,2,3,4,5,6,7)]\n",
    "print(e,type(e))"
   ]
  }
 ],
 "metadata": {
  "kernelspec": {
   "display_name": "base",
   "language": "python",
   "name": "python3"
  },
  "language_info": {
   "codemirror_mode": {
    "name": "ipython",
    "version": 3
   },
   "file_extension": ".py",
   "mimetype": "text/x-python",
   "name": "python",
   "nbconvert_exporter": "python",
   "pygments_lexer": "ipython3",
   "version": "3.12.4"
  }
 },
 "nbformat": 4,
 "nbformat_minor": 2
}
