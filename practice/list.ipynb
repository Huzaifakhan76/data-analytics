{
 "cells": [
  {
   "cell_type": "code",
   "execution_count": null,
   "metadata": {},
   "outputs": [],
   "source": [
    "a = [1,2,3]\n",
    "print(a, type(a))\n",
    "names = ['alice', 'bob' , 'charlie']\n",
    "print(names, type(names))\n",
    "data = ['apple', 50, 'mango' , 100 , 'orange' , 70]\n",
    "nestedlist = [[1,2,3], [4,5,6],[7,8]]\n",
    "print(data)\n",
    "print(nestedlist)\n",
    "duolicated_list = [1] * 10\n",
    "print(duplicated_list)\n",
    "print(list('vertex'))\n",
    "print('welcome to listing'.split())"
   ]
  },
  {
   "cell_type": "code",
   "execution_count": 5,
   "metadata": {},
   "outputs": [
    {
     "name": "stdout",
     "output_type": "stream",
     "text": [
      "first five number [11, 12, 13, 14, 15]\n"
     ]
    }
   ],
   "source": [
    "n = [11,12,13,14,15,16,17,18,19,20]\n",
    "print('first five number',n[:5])\n"
   ]
  },
  {
   "cell_type": "code",
   "execution_count": null,
   "metadata": {},
   "outputs": [],
   "source": [
    "print('first element =', n[0])\n",
    "print('last element', n[-1])\n",
    "print('last five', n[-5])\n",
    "print(\"except first 2 and last 2 =\" , n[2:-2])\n",
    "print(\"reverselist n\",[::-1])\n",
    "print('all even indexes', n[::2])\n",
    "print('all odd indexes', n[1::2])\n"
   ]
  },
  {
   "cell_type": "code",
   "execution_count": null,
   "metadata": {},
   "outputs": [],
   "source": [
    "fruits = ['apple', 'mango', 'orange']\n",
    "\n"
   ]
  },
  {
   "cell_type": "code",
   "execution_count": 8,
   "metadata": {},
   "outputs": [
    {
     "name": "stdout",
     "output_type": "stream",
     "text": [
      "<class 'list'>\n",
      "['fast and furious', 'tarzan ', 'jumangi', 'the bullet train', 'harry potter']\n",
      "5\n"
     ]
    }
   ],
   "source": [
    "movies = []\n",
    "print(type(movies))\n",
    "movies.append(\"fast and furious\")\n",
    "movies.append(\"tarzan \")\n",
    "movies.append(\"jumangi\")\n",
    "movies.append(\"the bullet train\")\n",
    "movies.append(\"harry potter\")\n",
    "print(movies)\n",
    "print(len(movies))"
   ]
  },
  {
   "cell_type": "code",
   "execution_count": 9,
   "metadata": {},
   "outputs": [
    {
     "name": "stdout",
     "output_type": "stream",
     "text": [
      "['fast and furious', '2 fast 2 furious', 'fast and furious', 'tokyo', 'fast and furious 6']\n",
      "['fast and furious', '2 fast 2 furious', 'fast and furious', ' fast and furious 4', 'tokyo', 'fast and furious 6']\n"
     ]
    }
   ],
   "source": [
    "ff = ['fast and furious', '2 fast 2 furious', 'fast and furious', 'tokyo']\n",
    "ff.append(\"fast and furious 6\")\n",
    "print(ff)\n",
    "ff.insert(3, ' fast and furious 4')\n",
    "print(ff)"
   ]
  },
  {
   "cell_type": "code",
   "execution_count": 10,
   "metadata": {},
   "outputs": [
    {
     "name": "stdout",
     "output_type": "stream",
     "text": [
      "[1, 2, 3, 4, 6, 7, 8, 9]\n",
      "[1, 2, 3, 4, 5, 6, 7, 8, 9]\n",
      "5\n"
     ]
    }
   ],
   "source": [
    "n = [1,2,3,6,7,8,9]\n",
    "n.insert(3,4)# on 3rd index insert value=4\n",
    "print(n)\n",
    "n.insert(4,5)#on 5th index insert value = 5\n",
    "print(n)\n",
    "n.insert(100,5)#invalid index , so it will insert at the end\n",
    "print(5)"
   ]
  },
  {
   "cell_type": "code",
   "execution_count": 19,
   "metadata": {},
   "outputs": [],
   "source": [
    "#adding a list in a another list\n",
    "l1 =[1,2,3]\n",
    "l2 =[4,5,6]\n",
    "l3 =[7,8,9]\n",
    "l1.extend(12)\n",
    "print(11)\n",
    "print(12)\n",
    "l2.extend(13)\n",
    "print(12)\n",
    "l3.extend([1,2,3,4,5,5])\n",
    "print(13)\n"
   ]
  }
 ],
 "metadata": {
  "kernelspec": {
   "display_name": "base",
   "language": "python",
   "name": "python3"
  },
  "language_info": {
   "codemirror_mode": {
    "name": "ipython",
    "version": 3
   },
   "file_extension": ".py",
   "mimetype": "text/x-python",
   "name": "python",
   "nbconvert_exporter": "python",
   "pygments_lexer": "ipython3",
   "version": "3.12.4"
  }
 },
 "nbformat": 4,
 "nbformat_minor": 2
}
