{
 "cells": [
  {
   "cell_type": "code",
   "execution_count": 21,
   "metadata": {},
   "outputs": [],
   "source": [
    "import os"
   ]
  },
  {
   "cell_type": "code",
   "execution_count": 22,
   "metadata": {},
   "outputs": [
    {
     "name": "stdout",
     "output_type": "stream",
     "text": [
      "E:\\\n"
     ]
    }
   ],
   "source": [
    "BASE_DIR = os.getcwd()\n",
    "print(BASE_DIR)"
   ]
  },
  {
   "cell_type": "code",
   "execution_count": 23,
   "metadata": {},
   "outputs": [
    {
     "name": "stdout",
     "output_type": "stream",
     "text": [
      "['$RECYCLE.BIN', '(Movies4u.Vip).Abigail.2024.720p.10bit.WEBDL.Hindi.English.ESubs (1).mkv', '(Movies4u.Vip).Abigail.2024.720p.10bit.WEBDL.Hindi.English.ESubs.mkv', '7z2401.msi', 'adb-setup-1.4.3.zip', 'avast_free_antivirus_setup_online.exe', 'B612_20221103_234102_823.jpg', 'dxwebsetup.exe', 'fr33__setup_kp.zip', 'G.1.T.Aa.5 - Www.ApunKaGames.Net).part01.rar.fdmdownload', 'Git-2.45.2-64-bit.exe', 'Grand Theft Auto V (2015) Repack by Canek77', 'GTA - San Andreas [RePack by KloneB@DGuY]', 'HUZAIFA DOC', 'IMG-20221030-WA0004.jpg', 'IMG-20221104-WA0001.jpg', 'iPhone14,5_17.5.1_21F90_Restore.ipsw', 'Lights_Out_2016_Hindi_Dubbed_Full_Movie_BluRay.mp4', 'movies', 'msdownld.tmp', 'mynotes', 'Naruto E01 {Hindi-English-Japanese} 720p (10bit) BluRay ESub [BollyFlix].mkv', 'Naruto E02 {Hindi-English-Japanese} 720p (10bit) BluRay ESub [BollyFlix].mkv', 'Naruto E03 {Hindi-English-Japanese} 720p (10bit) BluRay ESub [BollyFlix].mkv', 'Naruto E04 {Hindi-English-Japanese} 720p (10bit) BluRay ESub [BollyFlix].mkv', 'Naruto E05 {Hindi-English-Japanese} 720p (10bit) BluRay ESub [BollyFlix].mkv', 'New folder', 'Night_Swim_2024_Hindi_HQ_Dubbed_Full_Movie_HDRip.mp4', 'Program Files', 'Program Files (x86)', 'Programs', 'rufus.ini', 'SamFwToolSetup_v4.7.1.zip', 'SamFwToolSetup_v4.9.zip', 'so7036c', 'so7036c.rar', 'System Volume Information', 'Tamasha_2015_Hindi_Full_Movie_BluRay.mp4', 'Tenorshare', 'Top_Gun_Maverick_2022_Hindi_HQ_Clean_Aud_Dubbed_Full_Movie_HDRip_(FilmyZilla.vin).mp4', 'Video', 'Visions_2023_Hindi_Dubbed_Full_Movie_480p_BluRay.mp4', 'Windows 11 wallpapers by techviral (1).jpg', 'Windows 11 wallpapers by techviral (2).jpg', 'Windows 11 wallpapers by techviral (3).jpg', 'Windows 11 wallpapers by techviral (4).jpg', 'Windows 11 wallpapers by techviral (5).jpg', 'Windows 11 wallpapers by techviral (6).jpg', 'Windows 11 wallpapers by techviral (7).jpg']\n"
     ]
    }
   ],
   "source": [
    "content = os.listdir()\n",
    "print(content)"
   ]
  },
  {
   "cell_type": "code",
   "execution_count": 24,
   "metadata": {},
   "outputs": [
    {
     "name": "stdout",
     "output_type": "stream",
     "text": [
      "total content : 26\n"
     ]
    }
   ],
   "source": [
    "addr = r'c:\\Program files'\n",
    "content = os.listdir(addr)\n",
    "print(f'total content : {len(content)}')"
   ]
  },
  {
   "cell_type": "code",
   "execution_count": null,
   "metadata": {},
   "outputs": [],
   "source": []
  },
  {
   "cell_type": "code",
   "execution_count": 25,
   "metadata": {},
   "outputs": [
    {
     "data": {
      "text/plain": [
       "['C:\\\\', 'D:\\\\', 'E:\\\\', 'G:\\\\']"
      ]
     },
     "execution_count": 25,
     "metadata": {},
     "output_type": "execute_result"
    }
   ],
   "source": [
    "os.listdrives()"
   ]
  },
  {
   "cell_type": "code",
   "execution_count": 26,
   "metadata": {},
   "outputs": [
    {
     "name": "stdout",
     "output_type": "stream",
     "text": [
      "['$RECYCLE.BIN', '(Movies4u.Vip).Abigail.2024.720p.10bit.WEBDL.Hindi.English.ESubs (1).mkv', '(Movies4u.Vip).Abigail.2024.720p.10bit.WEBDL.Hindi.English.ESubs.mkv', '7z2401.msi', 'adb-setup-1.4.3.zip', 'avast_free_antivirus_setup_online.exe', 'B612_20221103_234102_823.jpg', 'dxwebsetup.exe', 'fr33__setup_kp.zip', 'G.1.T.Aa.5 - Www.ApunKaGames.Net).part01.rar.fdmdownload', 'Git-2.45.2-64-bit.exe', 'Grand Theft Auto V (2015) Repack by Canek77', 'GTA - San Andreas [RePack by KloneB@DGuY]', 'HUZAIFA DOC', 'IMG-20221030-WA0004.jpg', 'IMG-20221104-WA0001.jpg', 'iPhone14,5_17.5.1_21F90_Restore.ipsw', 'Lights_Out_2016_Hindi_Dubbed_Full_Movie_BluRay.mp4', 'movies', 'msdownld.tmp', 'mynotes', 'Naruto E01 {Hindi-English-Japanese} 720p (10bit) BluRay ESub [BollyFlix].mkv', 'Naruto E02 {Hindi-English-Japanese} 720p (10bit) BluRay ESub [BollyFlix].mkv', 'Naruto E03 {Hindi-English-Japanese} 720p (10bit) BluRay ESub [BollyFlix].mkv', 'Naruto E04 {Hindi-English-Japanese} 720p (10bit) BluRay ESub [BollyFlix].mkv', 'Naruto E05 {Hindi-English-Japanese} 720p (10bit) BluRay ESub [BollyFlix].mkv', 'New folder', 'Night_Swim_2024_Hindi_HQ_Dubbed_Full_Movie_HDRip.mp4', 'Program Files', 'Program Files (x86)', 'Programs', 'rufus.ini', 'SamFwToolSetup_v4.7.1.zip', 'SamFwToolSetup_v4.9.zip', 'so7036c', 'so7036c.rar', 'System Volume Information', 'Tamasha_2015_Hindi_Full_Movie_BluRay.mp4', 'Tenorshare', 'Top_Gun_Maverick_2022_Hindi_HQ_Clean_Aud_Dubbed_Full_Movie_HDRip_(FilmyZilla.vin).mp4', 'Video', 'Visions_2023_Hindi_Dubbed_Full_Movie_480p_BluRay.mp4', 'Windows 11 wallpapers by techviral (1).jpg', 'Windows 11 wallpapers by techviral (2).jpg', 'Windows 11 wallpapers by techviral (3).jpg', 'Windows 11 wallpapers by techviral (4).jpg', 'Windows 11 wallpapers by techviral (5).jpg', 'Windows 11 wallpapers by techviral (6).jpg', 'Windows 11 wallpapers by techviral (7).jpg']\n"
     ]
    }
   ],
   "source": [
    "os.chdir(\"E:\")\n",
    "print(os.listdir())"
   ]
  },
  {
   "cell_type": "code",
   "execution_count": 27,
   "metadata": {},
   "outputs": [],
   "source": [
    "os.makedirs(\"mynotes\", exist_ok=True)"
   ]
  },
  {
   "cell_type": "markdown",
   "metadata": {},
   "source": [
    "#pthon file handling\n",
    "'open' -opens files resuorces and returns  a file object\n",
    "modes\n",
    "\"f\" read mode (default)\n",
    "\"w\" write mode \n",
    "\"a\" append mode"
   ]
  },
  {
   "cell_type": "code",
   "execution_count": 34,
   "metadata": {},
   "outputs": [
    {
     "ename": "SyntaxError",
     "evalue": "unexpected character after line continuation character (4133514689.py, line 2)",
     "output_type": "error",
     "traceback": [
      "\u001b[1;36m  Cell \u001b[1;32mIn[34], line 2\u001b[1;36m\u001b[0m\n\u001b[1;33m    f.write(\"this is my first note\" \\n)\u001b[0m\n\u001b[1;37m                                     ^\u001b[0m\n\u001b[1;31mSyntaxError\u001b[0m\u001b[1;31m:\u001b[0m unexpected character after line continuation character\n"
     ]
    }
   ],
   "source": [
    "with open('mynotes/note1.txt' , 'a') as f:\n",
    "    f.write(\"this is my first note\" \\n)\n",
    "    f.write(\"python file handling is super easy\" \\n)\n",
    "    f.write(\"you can create and delete files easily\")\n",
    "          "
   ]
  },
  {
   "cell_type": "code",
   "execution_count": null,
   "metadata": {},
   "outputs": [],
   "source": []
  },
  {
   "cell_type": "code",
   "execution_count": null,
   "metadata": {},
   "outputs": [],
   "source": [
    "with open(\"mynotes/note.txt\") as file:\n",
    "      data = file.read()\n",
    "\n",
    "      print(data)"
   ]
  },
  {
   "cell_type": "code",
   "execution_count": null,
   "metadata": {},
   "outputs": [],
   "source": [
    "with open(file.txt, 'w') as file:\n",
    "    file.write(kahani)"
   ]
  },
  {
   "cell_type": "code",
   "execution_count": 41,
   "metadata": {},
   "outputs": [
    {
     "ename": "SyntaxError",
     "evalue": "incomplete input (590596735.py, line 2)",
     "output_type": "error",
     "traceback": [
      "\u001b[1;36m  Cell \u001b[1;32mIn[41], line 2\u001b[1;36m\u001b[0m\n\u001b[1;33m    list(filter(lambda file : file.endswith('.exe'), items)\u001b[0m\n\u001b[1;37m                                                           ^\u001b[0m\n\u001b[1;31mSyntaxError\u001b[0m\u001b[1;31m:\u001b[0m incomplete input\n"
     ]
    }
   ],
   "source": [
    "items = os.listdir('C:/users/user32/downloads')\n",
    "list(filter(lambda file : file.endswith('.exe'), items)"
   ]
  },
  {
   "cell_type": "code",
   "execution_count": 42,
   "metadata": {},
   "outputs": [
    {
     "ename": "SyntaxError",
     "evalue": "invalid decimal literal (240232734.py, line 4)",
     "output_type": "error",
     "traceback": [
      "\u001b[1;36m  Cell \u001b[1;32mIn[42], line 4\u001b[1;36m\u001b[0m\n\u001b[1;33m    print(f'{file:50}') {size/1024:.2f} kb')'\u001b[0m\n\u001b[1;37m                                    ^\u001b[0m\n\u001b[1;31mSyntaxError\u001b[0m\u001b[1;31m:\u001b[0m invalid decimal literal\n"
     ]
    }
   ],
   "source": [
    "for file in pdfs :\n",
    "    path = f'C:users/user32downloads/{file}'\n",
    "    size = os.path.getsize(path)\n",
    "    print(f'{file:50}') {size/1024:.2f} kb')'"
   ]
  }
 ],
 "metadata": {
  "kernelspec": {
   "display_name": "base",
   "language": "python",
   "name": "python3"
  },
  "language_info": {
   "codemirror_mode": {
    "name": "ipython",
    "version": 3
   },
   "file_extension": ".py",
   "mimetype": "text/x-python",
   "name": "python",
   "nbconvert_exporter": "python",
   "pygments_lexer": "ipython3",
   "version": "3.12.4"
  }
 },
 "nbformat": 4,
 "nbformat_minor": 2
}
