{
 "cells": [
  {
   "cell_type": "markdown",
   "metadata": {},
   "source": [
    "###strings\n",
    "creation\n",
    "indexing and slicing\n",
    "methods"
   ]
  },
  {
   "cell_type": "code",
   "execution_count": 1,
   "metadata": {},
   "outputs": [
    {
     "name": "stdout",
     "output_type": "stream",
     "text": [
      "<class 'str'>\n"
     ]
    }
   ],
   "source": [
    "a = \"mango\"\n",
    "print(type(a))"
   ]
  },
  {
   "cell_type": "code",
   "execution_count": 6,
   "metadata": {},
   "outputs": [
    {
     "name": "stdout",
     "output_type": "stream",
     "text": [
      "<class 'str'>\n"
     ]
    }
   ],
   "source": [
    "#double\n",
    "a = '''apple'''\n",
    "print(type(a))"
   ]
  },
  {
   "cell_type": "markdown",
   "metadata": {},
   "source": [
    "type of string\n",
    "bytes b'hello'\n",
    "raw r'hello'\n",
    "format f'hello'\n"
   ]
  },
  {
   "cell_type": "code",
   "execution_count": 8,
   "metadata": {},
   "outputs": [
    {
     "name": "stdout",
     "output_type": "stream",
     "text": [
      "b'this is a bytes string'\n",
      "this is \\n\\n\\n a byte string\n",
      "apple is a value\n"
     ]
    }
   ],
   "source": [
    "print(b'this is a bytes string')\n",
    "print(r'this is \\n\\n\\n a byte string')\n",
    "print(f'{a} is a value')"
   ]
  },
  {
   "cell_type": "markdown",
   "metadata": {},
   "source": [
    "###indexing\n",
    "-5 -4 -3 -2 -1\n",
    "-a p   p  1  e\n",
    "0  1   2  3  4\n",
    "\n"
   ]
  },
  {
   "cell_type": "code",
   "execution_count": 11,
   "metadata": {},
   "outputs": [
    {
     "name": "stdout",
     "output_type": "stream",
     "text": [
      "h\n"
     ]
    },
    {
     "ename": "TypeError",
     "evalue": "'str' object is not callable",
     "output_type": "error",
     "traceback": [
      "\u001b[1;31m---------------------------------------------------------------------------\u001b[0m",
      "\u001b[1;31mTypeError\u001b[0m                                 Traceback (most recent call last)",
      "Cell \u001b[1;32mIn[11], line 3\u001b[0m\n\u001b[0;32m      1\u001b[0m word \u001b[38;5;241m=\u001b[39m \u001b[38;5;124m\"\u001b[39m\u001b[38;5;124mhuzaifa\u001b[39m\u001b[38;5;124m\"\u001b[39m\n\u001b[0;32m      2\u001b[0m \u001b[38;5;28mprint\u001b[39m(word[\u001b[38;5;241m0\u001b[39m])\n\u001b[1;32m----> 3\u001b[0m \u001b[38;5;28mprint\u001b[39m(word(\u001b[38;5;241m1\u001b[39m))\n\u001b[0;32m      4\u001b[0m \u001b[38;5;28mprint\u001b[39m(word(\u001b[38;5;241m2\u001b[39m))\n\u001b[0;32m      5\u001b[0m \u001b[38;5;28mprint\u001b[39m(word(\u001b[38;5;241m3\u001b[39m))\n",
      "\u001b[1;31mTypeError\u001b[0m: 'str' object is not callable"
     ]
    }
   ],
   "source": [
    "word = \"huzaifa\"\n",
    "print(word[0])\n",
    "print(word[1])\n",
    "print(word(2))\n",
    "print(word(3))\n",
    "print(word(4))\n",
    "print(word(-2))\n",
    "print(word(-1))"
   ]
  },
  {
   "cell_type": "code",
   "execution_count": 13,
   "metadata": {},
   "outputs": [
    {
     "name": "stdout",
     "output_type": "stream",
     "text": [
      "befor\n"
     ]
    }
   ],
   "source": [
    "msg = \"journey before destination\"\n",
    "print(msg[8:13])"
   ]
  },
  {
   "cell_type": "code",
   "execution_count": 18,
   "metadata": {},
   "outputs": [
    {
     "name": "stdout",
     "output_type": "stream",
     "text": [
      "vijay\n",
      " deenanath\n",
      "chauhan\n"
     ]
    }
   ],
   "source": [
    "name= 'vijay deenanath chauhan'\n",
    "print(name[0:5])\n",
    "print(name[5:15])\n",
    "print(name[16:])"
   ]
  },
  {
   "cell_type": "code",
   "execution_count": 20,
   "metadata": {},
   "outputs": [
    {
     "name": "stdout",
     "output_type": "stream",
     "text": [
      "vijay deenanath \n"
     ]
    }
   ],
   "source": [
    "print(name[0:-7])"
   ]
  },
  {
   "cell_type": "code",
   "execution_count": null,
   "metadata": {},
   "outputs": [],
   "source": []
  },
  {
   "cell_type": "code",
   "execution_count": 36,
   "metadata": {},
   "outputs": [
    {
     "name": "stdout",
     "output_type": "stream",
     "text": [
      "5599.25\n"
     ]
    }
   ],
   "source": [
    "x = \"$5599.25 only\"\n",
    "\n",
    "print(float(x[1:-5]))"
   ]
  },
  {
   "cell_type": "markdown",
   "metadata": {},
   "source": [
    "#strings methods()\n",
    "formatting()\n",
    "upper()\n",
    "lower()\n",
    "capitalize()\n",
    "title()\n",
    "swapcase()\n",
    "casefold()\n",
    "center()\n",
    "ljust()\n",
    "rjust()\n"
   ]
  },
  {
   "cell_type": "code",
   "execution_count": 37,
   "metadata": {},
   "outputs": [],
   "source": [
    "msg = 'life is beautiful'"
   ]
  },
  {
   "cell_type": "code",
   "execution_count": 42,
   "metadata": {},
   "outputs": [
    {
     "name": "stdout",
     "output_type": "stream",
     "text": [
      "LIFE IS BEAUTIFUL\n",
      "life is beautiful\n",
      "Life Is Beautiful\n",
      "Life is beautiful\n",
      "LIFE IS BEAUTIFUL\n",
      "life is beautiful\n"
     ]
    },
    {
     "ename": "TypeError",
     "evalue": "center expected at least 1 argument, got 0",
     "output_type": "error",
     "traceback": [
      "\u001b[1;31m---------------------------------------------------------------------------\u001b[0m",
      "\u001b[1;31mTypeError\u001b[0m                                 Traceback (most recent call last)",
      "Cell \u001b[1;32mIn[42], line 8\u001b[0m\n\u001b[0;32m      6\u001b[0m \u001b[38;5;28mprint\u001b[39m(msg\u001b[38;5;241m.\u001b[39mswapcase())\n\u001b[0;32m      7\u001b[0m \u001b[38;5;28mprint\u001b[39m(msg\u001b[38;5;241m.\u001b[39mcasefold())\n\u001b[1;32m----> 8\u001b[0m \u001b[38;5;28mprint\u001b[39m(msg\u001b[38;5;241m.\u001b[39mcenter())\n\u001b[0;32m      9\u001b[0m \u001b[38;5;28mprint\u001b[39m(msg\u001b[38;5;241m.\u001b[39mljust(\u001b[38;5;241m50\u001b[39m))\n\u001b[0;32m     10\u001b[0m \u001b[38;5;28mprint\u001b[39m(msg\u001b[38;5;241m.\u001b[39mrjust(\u001b[38;5;241m50\u001b[39m))\n",
      "\u001b[1;31mTypeError\u001b[0m: center expected at least 1 argument, got 0"
     ]
    }
   ],
   "source": [
    "msg = 'life is beautiful'\n",
    "print(msg.upper())\n",
    "print(msg.lower())\n",
    "print(msg.title())\n",
    "print(msg.capitalize())\n",
    "print(msg.swapcase())\n",
    "print(msg.casefold())\n",
    "print(msg.center())\n",
    "print(msg.ljust(50))\n",
    "print(msg.rjust(50))\n",
    "print(msg.rjust(5))\n",
    "print(msg.rjust(50,'*'))\n"
   ]
  },
  {
   "cell_type": "code",
   "execution_count": 8,
   "metadata": {},
   "outputs": [
    {
     "name": "stdout",
     "output_type": "stream",
     "text": [
      "nnnnnnn\n",
      "True\n",
      "True\n",
      "False\n",
      "False\n"
     ]
    },
    {
     "ename": "TypeError",
     "evalue": "str.isidentifier() takes no arguments (2 given)",
     "output_type": "error",
     "traceback": [
      "\u001b[1;31m---------------------------------------------------------------------------\u001b[0m",
      "\u001b[1;31mTypeError\u001b[0m                                 Traceback (most recent call last)",
      "Cell \u001b[1;32mIn[8], line 7\u001b[0m\n\u001b[0;32m      5\u001b[0m \u001b[38;5;28mprint\u001b[39m(data\u001b[38;5;241m.\u001b[39misnumeric())\n\u001b[0;32m      6\u001b[0m \u001b[38;5;28mprint\u001b[39m(data\u001b[38;5;241m.\u001b[39misdecimal())\n\u001b[1;32m----> 7\u001b[0m \u001b[38;5;28mprint\u001b[39m(data\u001b[38;5;241m.\u001b[39misidentifier(\u001b[38;5;241m50\u001b[39m ,\u001b[38;5;124m\"\u001b[39m\u001b[38;5;124mshshshshshsh\u001b[39m\u001b[38;5;124m\"\u001b[39m))\n",
      "\u001b[1;31mTypeError\u001b[0m: str.isidentifier() takes no arguments (2 given)"
     ]
    }
   ],
   "source": [
    "data = input(\"enter something\")\n",
    "print(data)\n",
    "print(data.isalpha())\n",
    "print(data.isalnum())\n",
    "print(data.isnumeric())\n",
    "print(data.isdecimal())\n",
    "print(data.isidentifier(50 ,\"shshshshshsh\"))\n"
   ]
  },
  {
   "cell_type": "markdown",
   "metadata": {},
   "source": [
    "-utility functions\n",
    "- split()\n",
    "- join\n",
    "- find\n",
    "- replace\n",
    "- index\n",
    "- count\n",
    "- strip \n",
    "imp func"
   ]
  },
  {
   "cell_type": "code",
   "execution_count": null,
   "metadata": {},
   "outputs": [],
   "source": [
    "sentance = \"all the glitter is not gold\"\n",
    "sentance."
   ]
  },
  {
   "cell_type": "code",
   "execution_count": null,
   "metadata": {},
   "outputs": [],
   "source": [
    "words = sentance.split()\n",
    "for word in words:\n",
    "         print(word)"
   ]
  },
  {
   "cell_type": "code",
   "execution_count": 2,
   "metadata": {},
   "outputs": [
    {
     "data": {
      "text/plain": [
       "['',\n",
       " 'sfjmfmss,,sdsn',\n",
       " 'sdnnvsnsnsn,nnnnc',\n",
       " 'jmmdmdmmdnndnd,nnvfdn',\n",
       " 'nnfvnnfdnnfdn,jsdj jsjfj fjksf idsk']"
      ]
     },
     "execution_count": 2,
     "metadata": {},
     "output_type": "execute_result"
    }
   ],
   "source": [
    "poem = \"\"\"\n",
    "sfjmfmss,,sdsn\n",
    "sdnnvsnsnsn,nnnnc\n",
    "jmmdmdmmdnndnd,nnvfdn\n",
    "nnfvnnfdnnfdn,jsdj jsjfj fjksf idsk\n",
    "\"\"\"\n",
    "poem.splitlines()"
   ]
  },
  {
   "cell_type": "code",
   "execution_count": 3,
   "metadata": {},
   "outputs": [
    {
     "data": {
      "text/plain": [
       "['i', 'm', 'huzaifa', 'and', 'i', 'm', 'here', 'lol']"
      ]
     },
     "execution_count": 3,
     "metadata": {},
     "output_type": "execute_result"
    }
   ],
   "source": [
    "huzaifa = \"i m huzaifa and i m here lol\"\n",
    "huzaifa.split()"
   ]
  },
  {
   "cell_type": "code",
   "execution_count": 5,
   "metadata": {},
   "outputs": [
    {
     "name": "stdout",
     "output_type": "stream",
     "text": [
      "['c', 'd', 'e', 'f']\n",
      "c/d/e/f\n"
     ]
    }
   ],
   "source": [
    "addr = [\"c\", \"d\", \"e\" , \"f\"]\n",
    "print(addr)\n",
    "full_addr = \"/\".join(addr)\n",
    "print(full_addr)"
   ]
  },
  {
   "cell_type": "code",
   "execution_count": 10,
   "metadata": {},
   "outputs": [
    {
     "name": "stdout",
     "output_type": "stream",
     "text": [
      "8\n"
     ]
    }
   ],
   "source": [
    "sentance = input(\"enter a sentance\")\n",
    "words = sentance.split()\n",
    "for word in words:\n",
    "    size = len(word)\n",
    "    if size % 2 != 0:\n",
    "        print(word)"
   ]
  },
  {
   "cell_type": "code",
   "execution_count": 13,
   "metadata": {},
   "outputs": [
    {
     "name": "stdout",
     "output_type": "stream",
     "text": [
      "2\n",
      "10\n",
      "2\n",
      "2\n",
      "2\n",
      "2\n",
      "-1\n"
     ]
    }
   ],
   "source": [
    "a = 'this is a message'\n",
    "print(a.find('is'))\n",
    "print(a.find('mess'))\n",
    "print(a.find(\"is\"))\n",
    "print(a.find(\"is\"))\n",
    "print(a.find(\"is\"))\n",
    "print(a.find(\"is\"))\n",
    "print(a.find(\"are\"))"
   ]
  },
  {
   "cell_type": "code",
   "execution_count": null,
   "metadata": {},
   "outputs": [],
   "source": []
  },
  {
   "cell_type": "code",
   "execution_count": 15,
   "metadata": {},
   "outputs": [
    {
     "name": "stdout",
     "output_type": "stream",
     "text": [
      "this is a message\n",
      "thwas was a message\n",
      "khis is a lekter\n"
     ]
    }
   ],
   "source": [
    "print(a)\n",
    "b = a.replace(\"is\", \"was\")\n",
    "print(b)\n",
    "c = b.replace(\"message\",  \"letter\").replace(\"was\" , 'is')\n",
    "d = c.replace(\"t\",\"k\" , 2) # replace only 2 occurence\n",
    "print(d)"
   ]
  },
  {
   "cell_type": "code",
   "execution_count": 14,
   "metadata": {},
   "outputs": [
    {
     "data": {
      "text/plain": [
       "'hello'"
      ]
     },
     "execution_count": 14,
     "metadata": {},
     "output_type": "execute_result"
    }
   ],
   "source": [
    "# replace as remove\n",
    "data = \"he!!!!llo\"\n",
    "data.replace('!','')"
   ]
  },
  {
   "cell_type": "markdown",
   "metadata": {},
   "source": [
    "wap to remove all vowels from a string"
   ]
  },
  {
   "cell_type": "code",
   "execution_count": null,
   "metadata": {},
   "outputs": [
    {
     "data": {
      "text/plain": [
       "'wlcom to my world'"
      ]
     },
     "execution_count": 16,
     "metadata": {},
     "output_type": "execute_result"
    }
   ],
   "source": [
    "\"welcome to my world\".replace('a','').replace('e','')"
   ]
  },
  {
   "cell_type": "code",
   "execution_count": 18,
   "metadata": {},
   "outputs": [
    {
     "name": "stdout",
     "output_type": "stream",
     "text": [
      "0\n",
      "0\n",
      "0\n"
     ]
    }
   ],
   "source": [
    "msg = 'one two three one two'\n",
    "print(msg.count(\"0\"))\n",
    "print(msg.count(\"e\"))\n",
    "print(msg.count(\"one\"))\n",
    "print(msg.count(\"four\"))"
   ]
  },
  {
   "cell_type": "code",
   "execution_count": 20,
   "metadata": {},
   "outputs": [
    {
     "name": "stdout",
     "output_type": "stream",
     "text": [
      "13   alex mercer\n",
      "11 alex mercer\n"
     ]
    }
   ],
   "source": [
    "name = '  alex mercer'\n",
    "print(len(name), name)\n",
    "clean_name = name.strip()\n",
    "print(len(clean_name),clean_name)"
   ]
  },
  {
   "cell_type": "markdown",
   "metadata": {},
   "source": [
    "'''python \n",
    "names = [\n",
    "    'john',\n",
    "    'alex'\n",
    "    'jane'\n",
    "    'alexa'\n",
    "    'jacob'\n",
    "]\n",
    "display this datta after removing all leading and trailing spaces and maxing it upper case\n",
    "\n",
    "\n"
   ]
  },
  {
   "cell_type": "code",
   "execution_count": 22,
   "metadata": {},
   "outputs": [
    {
     "name": "stdout",
     "output_type": "stream",
     "text": [
      "John\n",
      "Alex\n",
      "Jane\n",
      "Alexa\n"
     ]
    }
   ],
   "source": [
    "names = ['john' , 'alex' , 'jane' , 'alexa']\n",
    "for i in names:\n",
    "    print(i.strip().title())\n",
    "  \n"
   ]
  }
 ],
 "metadata": {
  "kernelspec": {
   "display_name": "base",
   "language": "python",
   "name": "python3"
  },
  "language_info": {
   "codemirror_mode": {
    "name": "ipython",
    "version": 3
   },
   "file_extension": ".py",
   "mimetype": "text/x-python",
   "name": "python",
   "nbconvert_exporter": "python",
   "pygments_lexer": "ipython3",
   "version": "3.12.4"
  }
 },
 "nbformat": 4,
 "nbformat_minor": 2
}
