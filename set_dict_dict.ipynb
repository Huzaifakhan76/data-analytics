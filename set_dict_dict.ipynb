{
 "cells": [
  {
   "cell_type": "code",
   "execution_count": 16,
   "metadata": {},
   "outputs": [],
   "source": [
    "a = ['alex',True,False,29,'new york','photographer']\n",
    "datadict ={'name':'alex',\n",
    "      'is married' : True,\n",
    "      'has childeren' : False,\n",
    "      'age' : 29,\n",
    "      'city' : 'new york',\n",
    "      'profession' : 'photographer'\n",
    "}"
   ]
  },
  {
   "cell_type": "code",
   "execution_count": 3,
   "metadata": {},
   "outputs": [
    {
     "name": "stdout",
     "output_type": "stream",
     "text": [
      "{'name': 'alex', 'is married': True, 'has childeren': False, 'age': 29, 'city': 'new york', 'profession': 'photographer'}\n",
      "{'food': 500, 'softdrink': 700, 'insurance': 899}\n"
     ]
    }
   ],
   "source": [
    "movies = {}\n",
    "expenditure = dict(\n",
    "    food = 500,\n",
    "    softdrink = 700,\n",
    "    insurance = 899\n",
    ")\n",
    "print(datadict)\n",
    "print(expenditure)"
   ]
  },
  {
   "cell_type": "code",
   "execution_count": 5,
   "metadata": {},
   "outputs": [
    {
     "name": "stdout",
     "output_type": "stream",
     "text": [
      "alex\n",
      "True\n",
      "new york\n"
     ]
    }
   ],
   "source": [
    "print(datadict['name'])\n",
    "print(datadict['is married'])\n",
    "print(datadict['city'])\n",
    "#print(datadict['state'])\n"
   ]
  },
  {
   "cell_type": "code",
   "execution_count": 6,
   "metadata": {},
   "outputs": [
    {
     "name": "stdout",
     "output_type": "stream",
     "text": [
      "new york\n",
      "new york\n",
      "29\n",
      "100\n"
     ]
    }
   ],
   "source": [
    "print(datadict.get('city'))\n",
    "print(datadict.get('city'))\n",
    "print(datadict.get('age',100))\n",
    "print(datadict.get('AGE',100))\n"
   ]
  },
  {
   "cell_type": "code",
   "execution_count": null,
   "metadata": {},
   "outputs": [],
   "source": [
    "movies['deadpol','wolwerine'] = 'shawn levy'\n",
    "movies['bahubali'] = 'ss rajamouli'\n",
    "movies['inception'] = 'christopher nolan'\n",
    "print(movies)"
   ]
  },
  {
   "cell_type": "code",
   "execution_count": 9,
   "metadata": {},
   "outputs": [
    {
     "name": "stdout",
     "output_type": "stream",
     "text": [
      "{'the dark': \"'abc'\"}\n"
     ]
    }
   ],
   "source": [
    "movies.update(\n",
    "    {\"the dark\" : \"'abc'\"}\n",
    ")\n",
    "print(movies)"
   ]
  },
  {
   "cell_type": "code",
   "execution_count": 14,
   "metadata": {},
   "outputs": [
    {
     "name": "stdout",
     "output_type": "stream",
     "text": [
      "{'name': 'alex', 'is married': True, 'has childeren': False, 'age': 29, 'city': 'new york', 'profession': 'photographer'}\n"
     ]
    },
    {
     "data": {
      "text/plain": [
       "1"
      ]
     },
     "execution_count": 14,
     "metadata": {},
     "output_type": "execute_result"
    }
   ],
   "source": [
    "datadict ['name'] ='alex'\n",
    "print(datadict)\n",
    "len(movies)"
   ]
  },
  {
   "cell_type": "code",
   "execution_count": null,
   "metadata": {},
   "outputs": [],
   "source": [
    "for loop in dict will iterate over keys"
   ]
  },
  {
   "cell_type": "code",
   "execution_count": 19,
   "metadata": {},
   "outputs": [
    {
     "name": "stdout",
     "output_type": "stream",
     "text": [
      "the dark\n"
     ]
    }
   ],
   "source": [
    "for item in movies:\n",
    "    print(item)"
   ]
  },
  {
   "cell_type": "code",
   "execution_count": 20,
   "metadata": {},
   "outputs": [
    {
     "name": "stdout",
     "output_type": "stream",
     "text": [
      "{'the dark': \"'abc'\"}\n"
     ]
    }
   ],
   "source": [
    "for  item in movies:\n",
    "    print(movies)\n"
   ]
  },
  {
   "cell_type": "code",
   "execution_count": 22,
   "metadata": {},
   "outputs": [
    {
     "name": "stdout",
     "output_type": "stream",
     "text": [
      "the dark 'abc'\n"
     ]
    }
   ],
   "source": [
    "for k,v in movies.items():\n",
    "    print(k,v)"
   ]
  },
  {
   "cell_type": "code",
   "execution_count": null,
   "metadata": {},
   "outputs": [],
   "source": [
    "nested dic"
   ]
  },
  {
   "cell_type": "code",
   "execution_count": 32,
   "metadata": {},
   "outputs": [
    {
     "ename": "SyntaxError",
     "evalue": "'{' was never closed (3033463875.py, line 1)",
     "output_type": "error",
     "traceback": [
      "\u001b[1;36m  Cell \u001b[1;32mIn[32], line 1\u001b[1;36m\u001b[0m\n\u001b[1;33m    report = {'01':{'name':'alex',\u001b[0m\n\u001b[1;37m             ^\u001b[0m\n\u001b[1;31mSyntaxError\u001b[0m\u001b[1;31m:\u001b[0m '{' was never closed\n"
     ]
    }
   ],
   "source": [
    "report = {'01':{'name':'alex',\n",
    "                'subjects':\n",
    "                {'maths':90,\n",
    "                'science':85,'english':95}\n",
    "                \n",
    "            }\n",
    "       ' 02': {'name' : 'john',\n",
    "             'subjects':{'maths' : 80,\n",
    "                         'science':75,\n",
    "                         'english':85\n",
    "                         \n",
    "                         }}\n",
    "\n",
    "\n",
    "\n",
    "\n",
    "\n",
    "\n"
   ]
  },
  {
   "cell_type": "code",
   "execution_count": 30,
   "metadata": {},
   "outputs": [],
   "source": [
    "from pprint import pp"
   ]
  },
  {
   "cell_type": "code",
   "execution_count": null,
   "metadata": {},
   "outputs": [],
   "source": []
  },
  {
   "cell_type": "code",
   "execution_count": 31,
   "metadata": {},
   "outputs": [
    {
     "ename": "NameError",
     "evalue": "name 'report' is not defined",
     "output_type": "error",
     "traceback": [
      "\u001b[1;31m---------------------------------------------------------------------------\u001b[0m",
      "\u001b[1;31mNameError\u001b[0m                                 Traceback (most recent call last)",
      "Cell \u001b[1;32mIn[31], line 1\u001b[0m\n\u001b[1;32m----> 1\u001b[0m pp(report)\n",
      "\u001b[1;31mNameError\u001b[0m: name 'report' is not defined"
     ]
    }
   ],
   "source": [
    "pp(report)"
   ]
  }
 ],
 "metadata": {
  "kernelspec": {
   "display_name": "base",
   "language": "python",
   "name": "python3"
  },
  "language_info": {
   "codemirror_mode": {
    "name": "ipython",
    "version": 3
   },
   "file_extension": ".py",
   "mimetype": "text/x-python",
   "name": "python",
   "nbconvert_exporter": "python",
   "pygments_lexer": "ipython3",
   "version": "3.12.4"
  }
 },
 "nbformat": 4,
 "nbformat_minor": 2
}
