{
 "cells": [
  {
   "cell_type": "markdown",
   "metadata": {},
   "source": [
    "# function syntax\n",
    "#creating a function "
   ]
  },
  {
   "cell_type": "code",
   "execution_count": null,
   "metadata": {},
   "outputs": [],
   "source": [
    "def si(p,r,t):\n",
    "    return p*r*t/100\n"
   ]
  },
  {
   "cell_type": "code",
   "execution_count": null,
   "metadata": {},
   "outputs": [],
   "source": [
    "si(12000, 3,33,5)"
   ]
  },
  {
   "cell_type": "code",
   "execution_count": 1,
   "metadata": {},
   "outputs": [
    {
     "ename": "SyntaxError",
     "evalue": "invalid syntax (4230013149.py, line 1)",
     "output_type": "error",
     "traceback": [
      "\u001b[1;36m  Cell \u001b[1;32mIn[1], line 1\u001b[1;36m\u001b[0m\n\u001b[1;33m    def info(1,w):\u001b[0m\n\u001b[1;37m             ^\u001b[0m\n\u001b[1;31mSyntaxError\u001b[0m\u001b[1;31m:\u001b[0m invalid syntax\n"
     ]
    }
   ],
   "source": [
    "def info(1,w):\n",
    "    area=1*w\n",
    "    perimeter = 2*(1+w)\n",
    "    return area,perimeter"
   ]
  },
  {
   "cell_type": "code",
   "execution_count": null,
   "metadata": {},
   "outputs": [],
   "source": [
    "info(20,50)"
   ]
  },
  {
   "cell_type": "code",
   "execution_count": null,
   "metadata": {},
   "outputs": [],
   "source": [
    "a , p = info(20,10#tuple unpacking)\n",
    "             print(f'area{a},perimeter: {p}')"
   ]
  },
  {
   "cell_type": "code",
   "execution_count": 9,
   "metadata": {},
   "outputs": [],
   "source": [
    "def acronym(name):\n",
    "    result = ''\n",
    "    words = name.split()\n",
    "    for word in words:\n",
    "      result+=word[0]\n",
    "    return result"
   ]
  },
  {
   "cell_type": "code",
   "execution_count": 10,
   "metadata": {},
   "outputs": [
    {
     "data": {
      "text/plain": [
       "'zk'"
      ]
     },
     "execution_count": 10,
     "metadata": {},
     "output_type": "execute_result"
    }
   ],
   "source": [
    "acronym('zaid kamil')"
   ]
  },
  {
   "cell_type": "code",
   "execution_count": 12,
   "metadata": {},
   "outputs": [
    {
     "name": "stdout",
     "output_type": "stream",
     "text": [
      "['a', 'b', 'c', 'd']\n",
      "['a', 'b', 'c', 'd']\n"
     ]
    }
   ],
   "source": [
    "names = ['a','b','c','d']\n",
    "acr =[acronym(name) for name in names]\n",
    "print(names)\n",
    "print(acr)"
   ]
  },
  {
   "cell_type": "code",
   "execution_count": 14,
   "metadata": {},
   "outputs": [
    {
     "name": "stdout",
     "output_type": "stream",
     "text": [
      "25\n",
      "9765625\n",
      "125\n"
     ]
    }
   ],
   "source": [
    "def power(number, exp=2):\n",
    "    return number ** exp\n",
    "\n",
    "print(power(5))\n",
    "print(power(5,10))\n",
    "print(power(5,3))\n"
   ]
  },
  {
   "cell_type": "code",
   "execution_count": null,
   "metadata": {},
   "outputs": [
    {
     "name": "stdout",
     "output_type": "stream",
     "text": [
      "0\n",
      "120\n",
      "14\n",
      "5\n",
      "8\n"
     ]
    }
   ],
   "source": [
    "def summer(a=0, b =0 , c=0, d=0):\n",
    "    return a+b+c+d\n",
    "print(summer())\n",
    "print(summer(120))\n",
    "print(summer(2,3,4,5))\n",
    "print(summer(2,3))\n",
    "print(summer(a=2,c=6))\n"
   ]
  },
  {
   "cell_type": "code",
   "execution_count": null,
   "metadata": {},
   "outputs": [],
   "source": [
    "def stats(*numbers, action ='sum'):\n",
    "      if action =='sum':\n",
    "        return sum(numbers)\n",
    "      if action =='mean':\n",
    "        return sum(numbers)/len(numbers)\n",
    "      if action =='count':\n",
    "        return len(numbers)\n",
    "      if action =='min':\n",
    "        return min(numbers)\n",
    " \n",
    "print(stats(11,12,13,14))\n",
    "print(stats(11,12,13,14,action='mean'))\n",
    "print(stats(1,1,1,1,3,1,4,action='min'))\n",
    "print(stats(11,12,13 , action='count')\n"
   ]
  },
  {
   "cell_type": "code",
   "execution_count": 27,
   "metadata": {},
   "outputs": [],
   "source": [
    "def greeting():\n",
    "    print(\"hello\")\n",
    "    print(world)"
   ]
  },
  {
   "cell_type": "code",
   "execution_count": null,
   "metadata": {},
   "outputs": [],
   "source": [
    "print(greeting())"
   ]
  },
  {
   "cell_type": "code",
   "execution_count": 33,
   "metadata": {},
   "outputs": [
    {
     "name": "stdout",
     "output_type": "stream",
     "text": [
      "[1, 4, 9, 16, 25]\n",
      "[1, 8, 27, 64, 125]\n"
     ]
    }
   ],
   "source": [
    "def apply(func,data):\n",
    "    return[func(x) for x in data]\n",
    "def square(x):\n",
    "    return x** 2\n",
    "def cube(x):\n",
    "    return x**3\n",
    "#implement a function that takes a list of numbers and a function\n",
    "ans = apply(square,[1,2,3,4,5])\n",
    "print(ans)\n",
    "ans = apply(cube,[1,2,3,4,5])\n",
    "print(ans)"
   ]
  },
  {
   "cell_type": "markdown",
   "metadata": {},
   "source": [
    "lamda expression\n",
    "f(x) = x**2 + 10\n",
    "g(x,y) = x*2 * y*2 - x*y"
   ]
  },
  {
   "cell_type": "code",
   "execution_count": 3,
   "metadata": {},
   "outputs": [
    {
     "name": "stdout",
     "output_type": "stream",
     "text": [
      "[1, 8, 27, 64, 125, 216]\n"
     ]
    }
   ],
   "source": [
    "x = [1,2,3,4,5,6]\n",
    "x3 = list(map(lambda i : i**3, x))\n",
    "\n",
    "# xhhh\n",
    "x3 = [i**3 for i in x]\n",
    "print(x3)\n",
    "#ll\n"
   ]
  },
  {
   "cell_type": "code",
   "execution_count": 4,
   "metadata": {},
   "outputs": [
    {
     "ename": "SyntaxError",
     "evalue": "invalid syntax (188503282.py, line 1)",
     "output_type": "error",
     "traceback": [
      "\u001b[1;36m  Cell \u001b[1;32mIn[4], line 1\u001b[1;36m\u001b[0m\n\u001b[1;33m    x = [1,2,\"a\",\"b\", 3, \"2\", 4, , 5 , 6]\u001b[0m\n\u001b[1;37m                                 ^\u001b[0m\n\u001b[1;31mSyntaxError\u001b[0m\u001b[1;31m:\u001b[0m invalid syntax\n"
     ]
    }
   ],
   "source": [
    "x = [1,2,\"a\",\"b\", 3, \"2\", 4, , 5 , 6]\n",
    "nums = filter(lambda i:isinstance(i,int),x)\n",
    "nums = list(nums) ##set \n",
    "print(nums)"
   ]
  }
 ],
 "metadata": {
  "kernelspec": {
   "display_name": "base",
   "language": "python",
   "name": "python3"
  },
  "language_info": {
   "codemirror_mode": {
    "name": "ipython",
    "version": 3
   },
   "file_extension": ".py",
   "mimetype": "text/x-python",
   "name": "python",
   "nbconvert_exporter": "python",
   "pygments_lexer": "ipython3",
   "version": "3.12.4"
  }
 },
 "nbformat": 4,
 "nbformat_minor": 2
}
