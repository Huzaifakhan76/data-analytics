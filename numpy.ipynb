{
 "cells": [
  {
   "cell_type": "code",
   "execution_count": 12,
   "metadata": {},
   "outputs": [],
   "source": [
    "import numpy as np\n"
   ]
  },
  {
   "cell_type": "code",
   "execution_count": 3,
   "metadata": {},
   "outputs": [
    {
     "name": "stdout",
     "output_type": "stream",
     "text": [
      "[0, 1, 2, 3, 4, 5, 6, 7, 8, 9]\n",
      "[[0 1 2 3 4 5 6 7 8 9]\n",
      " [0 1 2 3 4 5 6 7 8 9]\n",
      " [0 1 2 3 4 5 6 7 8 9]\n",
      " [0 1 2 3 4 5 6 7 8 9]\n",
      " [0 1 2 3 4 5 6 7 8 9]\n",
      " [0 1 2 3 4 5 6 7 8 9]\n",
      " [0 1 2 3 4 5 6 7 8 9]\n",
      " [0 1 2 3 4 5 6 7 8 9]\n",
      " [0 1 2 3 4 5 6 7 8 9]\n",
      " [0 1 2 3 4 5 6 7 8 9]\n",
      " [0 1 2 3 4 5 6 7 8 9]\n",
      " [0 1 2 3 4 5 6 7 8 9]\n",
      " [0 1 2 3 4 5 6 7 8 9]\n",
      " [0 1 2 3 4 5 6 7 8 9]\n",
      " [0 1 2 3 4 5 6 7 8 9]\n",
      " [0 1 2 3 4 5 6 7 8 9]\n",
      " [0 1 2 3 4 5 6 7 8 9]\n",
      " [0 1 2 3 4 5 6 7 8 9]\n",
      " [0 1 2 3 4 5 6 7 8 9]\n",
      " [0 1 2 3 4 5 6 7 8 9]\n",
      " [0 1 2 3 4 5 6 7 8 9]\n",
      " [0 1 2 3 4 5 6 7 8 9]\n",
      " [0 1 2 3 4 5 6 7 8 9]\n",
      " [0 1 2 3 4 5 6 7 8 9]\n",
      " [0 1 2 3 4 5 6 7 8 9]\n",
      " [0 1 2 3 4 5 6 7 8 9]\n",
      " [0 1 2 3 4 5 6 7 8 9]\n",
      " [0 1 2 3 4 5 6 7 8 9]\n",
      " [0 1 2 3 4 5 6 7 8 9]\n",
      " [0 1 2 3 4 5 6 7 8 9]\n",
      " [0 1 2 3 4 5 6 7 8 9]\n",
      " [0 1 2 3 4 5 6 7 8 9]\n",
      " [0 1 2 3 4 5 6 7 8 9]\n",
      " [0 1 2 3 4 5 6 7 8 9]\n",
      " [0 1 2 3 4 5 6 7 8 9]\n",
      " [0 1 2 3 4 5 6 7 8 9]\n",
      " [0 1 2 3 4 5 6 7 8 9]\n",
      " [0 1 2 3 4 5 6 7 8 9]\n",
      " [0 1 2 3 4 5 6 7 8 9]\n",
      " [0 1 2 3 4 5 6 7 8 9]\n",
      " [0 1 2 3 4 5 6 7 8 9]\n",
      " [0 1 2 3 4 5 6 7 8 9]\n",
      " [0 1 2 3 4 5 6 7 8 9]\n",
      " [0 1 2 3 4 5 6 7 8 9]\n",
      " [0 1 2 3 4 5 6 7 8 9]\n",
      " [0 1 2 3 4 5 6 7 8 9]\n",
      " [0 1 2 3 4 5 6 7 8 9]\n",
      " [0 1 2 3 4 5 6 7 8 9]\n",
      " [0 1 2 3 4 5 6 7 8 9]\n",
      " [0 1 2 3 4 5 6 7 8 9]\n",
      " [0 1 2 3 4 5 6 7 8 9]\n",
      " [0 1 2 3 4 5 6 7 8 9]\n",
      " [0 1 2 3 4 5 6 7 8 9]\n",
      " [0 1 2 3 4 5 6 7 8 9]\n",
      " [0 1 2 3 4 5 6 7 8 9]\n",
      " [0 1 2 3 4 5 6 7 8 9]\n",
      " [0 1 2 3 4 5 6 7 8 9]\n",
      " [0 1 2 3 4 5 6 7 8 9]\n",
      " [0 1 2 3 4 5 6 7 8 9]\n",
      " [0 1 2 3 4 5 6 7 8 9]\n",
      " [0 1 2 3 4 5 6 7 8 9]\n",
      " [0 1 2 3 4 5 6 7 8 9]\n",
      " [0 1 2 3 4 5 6 7 8 9]\n",
      " [0 1 2 3 4 5 6 7 8 9]\n",
      " [0 1 2 3 4 5 6 7 8 9]\n",
      " [0 1 2 3 4 5 6 7 8 9]\n",
      " [0 1 2 3 4 5 6 7 8 9]\n",
      " [0 1 2 3 4 5 6 7 8 9]\n",
      " [0 1 2 3 4 5 6 7 8 9]\n",
      " [0 1 2 3 4 5 6 7 8 9]\n",
      " [0 1 2 3 4 5 6 7 8 9]\n",
      " [0 1 2 3 4 5 6 7 8 9]\n",
      " [0 1 2 3 4 5 6 7 8 9]\n",
      " [0 1 2 3 4 5 6 7 8 9]\n",
      " [0 1 2 3 4 5 6 7 8 9]\n",
      " [0 1 2 3 4 5 6 7 8 9]\n",
      " [0 1 2 3 4 5 6 7 8 9]\n",
      " [0 1 2 3 4 5 6 7 8 9]\n",
      " [0 1 2 3 4 5 6 7 8 9]\n",
      " [0 1 2 3 4 5 6 7 8 9]\n",
      " [0 1 2 3 4 5 6 7 8 9]\n",
      " [0 1 2 3 4 5 6 7 8 9]\n",
      " [0 1 2 3 4 5 6 7 8 9]\n",
      " [0 1 2 3 4 5 6 7 8 9]\n",
      " [0 1 2 3 4 5 6 7 8 9]\n",
      " [0 1 2 3 4 5 6 7 8 9]\n",
      " [0 1 2 3 4 5 6 7 8 9]\n",
      " [0 1 2 3 4 5 6 7 8 9]\n",
      " [0 1 2 3 4 5 6 7 8 9]\n",
      " [0 1 2 3 4 5 6 7 8 9]\n",
      " [0 1 2 3 4 5 6 7 8 9]\n",
      " [0 1 2 3 4 5 6 7 8 9]\n",
      " [0 1 2 3 4 5 6 7 8 9]\n",
      " [0 1 2 3 4 5 6 7 8 9]\n",
      " [0 1 2 3 4 5 6 7 8 9]\n",
      " [0 1 2 3 4 5 6 7 8 9]\n",
      " [0 1 2 3 4 5 6 7 8 9]\n",
      " [0 1 2 3 4 5 6 7 8 9]\n",
      " [0 1 2 3 4 5 6 7 8 9]\n",
      " [0 1 2 3 4 5 6 7 8 9]]\n"
     ]
    }
   ],
   "source": [
    "z = [0,1,2,3,4,5,6,7,8,9]\n",
    "nz = np.array([z]*100)\n",
    "print(z)\n",
    "print(nz)"
   ]
  },
  {
   "cell_type": "code",
   "execution_count": null,
   "metadata": {},
   "outputs": [],
   "source": []
  },
  {
   "cell_type": "code",
   "execution_count": 4,
   "metadata": {},
   "outputs": [
    {
     "name": "stdout",
     "output_type": "stream",
     "text": [
      "(3, 3)\n"
     ]
    }
   ],
   "source": [
    "b = np.array([[1,2,3],[4,6,7],[8,9,10]])\n",
    "print(b.shape)"
   ]
  },
  {
   "cell_type": "code",
   "execution_count": 6,
   "metadata": {},
   "outputs": [
    {
     "name": "stdout",
     "output_type": "stream",
     "text": [
      "[[ 0  1  2  3  4  5  6  7  8  9 10]\n",
      " [ 0  1  2  3  4  5  6  7  8  9 10]\n",
      " [ 0  1  2  3  4  5  6  7  8  9 10]\n",
      " [ 0  1  2  3  4  5  6  7  8  9 10]\n",
      " [ 0  1  2  3  4  5  6  7  8  9 10]\n",
      " [ 0  1  2  3  4  5  6  7  8  9 10]\n",
      " [ 0  1  2  3  4  5  6  7  8  9 10]\n",
      " [ 0  1  2  3  4  5  6  7  8  9 10]\n",
      " [ 0  1  2  3  4  5  6  7  8  9 10]\n",
      " [ 0  1  2  3  4  5  6  7  8  9 10]]\n",
      "(10, 11)\n"
     ]
    }
   ],
   "source": [
    "a = [0,1,2,3,4,5,6,7,8,9,10]\n",
    "b = np.array([a]*10)\n",
    "print(b)\n",
    "print(b.shape)"
   ]
  },
  {
   "cell_type": "code",
   "execution_count": 10,
   "metadata": {},
   "outputs": [
    {
     "name": "stdout",
     "output_type": "stream",
     "text": [
      "[[-5  1 -3 -4  3]\n",
      " [ 2 -5  0 -4 -1]\n",
      " [ 5  1 -3 -2 -1]\n",
      " [ 2 -4  5  3  0]\n",
      " [-3  0  1 -5  1]]\n"
     ]
    }
   ],
   "source": [
    "r1 = np.random.randint(-5,6,(5,5))\n",
    "print(r1)"
   ]
  },
  {
   "cell_type": "markdown",
   "metadata": {},
   "source": []
  },
  {
   "cell_type": "code",
   "execution_count": 11,
   "metadata": {},
   "outputs": [
    {
     "data": {
      "text/plain": [
       "array([ 0. ,  0.5,  1. ,  1.5,  2. ,  2.5,  3. ,  3.5,  4. ,  4.5,  5. ,\n",
       "        5.5,  6. ,  6.5,  7. ,  7.5,  8. ,  8.5,  9. ,  9.5, 10. , 10.5,\n",
       "       11. , 11.5, 12. , 12.5, 13. , 13.5, 14. , 14.5, 15. , 15.5, 16. ,\n",
       "       16.5, 17. , 17.5, 18. , 18.5, 19. , 19.5, 20. , 20.5, 21. , 21.5,\n",
       "       22. , 22.5, 23. , 23.5, 24. , 24.5, 25. , 25.5, 26. , 26.5, 27. ,\n",
       "       27.5, 28. , 28.5, 29. , 29.5, 30. , 30.5, 31. , 31.5, 32. , 32.5,\n",
       "       33. , 33.5, 34. , 34.5, 35. , 35.5, 36. , 36.5, 37. , 37.5, 38. ,\n",
       "       38.5, 39. , 39.5, 40. , 40.5, 41. , 41.5, 42. , 42.5, 43. , 43.5,\n",
       "       44. , 44.5, 45. , 45.5, 46. , 46.5, 47. , 47.5, 48. , 48.5, 49. ,\n",
       "       49.5])"
      ]
     },
     "execution_count": 11,
     "metadata": {},
     "output_type": "execute_result"
    }
   ],
   "source": [
    "#start , stop , gap\n",
    "np.arange(0,50, .5)"
   ]
  },
  {
   "cell_type": "code",
   "execution_count": 12,
   "metadata": {},
   "outputs": [
    {
     "data": {
      "text/plain": [
       "array([ 0.        ,  0.50505051,  1.01010101,  1.51515152,  2.02020202,\n",
       "        2.52525253,  3.03030303,  3.53535354,  4.04040404,  4.54545455,\n",
       "        5.05050505,  5.55555556,  6.06060606,  6.56565657,  7.07070707,\n",
       "        7.57575758,  8.08080808,  8.58585859,  9.09090909,  9.5959596 ,\n",
       "       10.1010101 , 10.60606061, 11.11111111, 11.61616162, 12.12121212,\n",
       "       12.62626263, 13.13131313, 13.63636364, 14.14141414, 14.64646465,\n",
       "       15.15151515, 15.65656566, 16.16161616, 16.66666667, 17.17171717,\n",
       "       17.67676768, 18.18181818, 18.68686869, 19.19191919, 19.6969697 ,\n",
       "       20.2020202 , 20.70707071, 21.21212121, 21.71717172, 22.22222222,\n",
       "       22.72727273, 23.23232323, 23.73737374, 24.24242424, 24.74747475,\n",
       "       25.25252525, 25.75757576, 26.26262626, 26.76767677, 27.27272727,\n",
       "       27.77777778, 28.28282828, 28.78787879, 29.29292929, 29.7979798 ,\n",
       "       30.3030303 , 30.80808081, 31.31313131, 31.81818182, 32.32323232,\n",
       "       32.82828283, 33.33333333, 33.83838384, 34.34343434, 34.84848485,\n",
       "       35.35353535, 35.85858586, 36.36363636, 36.86868687, 37.37373737,\n",
       "       37.87878788, 38.38383838, 38.88888889, 39.39393939, 39.8989899 ,\n",
       "       40.4040404 , 40.90909091, 41.41414141, 41.91919192, 42.42424242,\n",
       "       42.92929293, 43.43434343, 43.93939394, 44.44444444, 44.94949495,\n",
       "       45.45454545, 45.95959596, 46.46464646, 46.96969697, 47.47474747,\n",
       "       47.97979798, 48.48484848, 48.98989899, 49.49494949, 50.        ])"
      ]
     },
     "execution_count": 12,
     "metadata": {},
     "output_type": "execute_result"
    }
   ],
   "source": [
    "#start, stop number of item\n",
    "np.linspace(0,50 , 100)"
   ]
  },
  {
   "cell_type": "markdown",
   "metadata": {},
   "source": [
    "array attribites\n",
    "- shape\n",
    "- dtype\n",
    "- ndim\n",
    "- size\n",
    "basic operation\n",
    "- sum\n",
    "- mean \n",
    "- min\n",
    "- max\n",
    "- std\n",
    "- reshape\n",
    "- transpose\n",
    "- flatten"
   ]
  },
  {
   "cell_type": "code",
   "execution_count": null,
   "metadata": {},
   "outputs": [],
   "source": [
    "x = np.random.rand(3,3)"
   ]
  },
  {
   "cell_type": "code",
   "execution_count": 13,
   "metadata": {},
   "outputs": [
    {
     "name": "stdout",
     "output_type": "stream",
     "text": [
      "4.045663464127647\n",
      "[0.85294365 1.45076117 1.74195864]\n",
      "[2.34783343 1.69783003]\n"
     ]
    }
   ],
   "source": [
    "a = np.random.rand(2,3)\n",
    "print(a.sum())\n",
    "print(a.sum(axis=0))\n",
    "print(a.sum(axis=1))\n",
    "print(a.mean())\n",
    "print(a.max())\n",
    "print(a.std())\n",
    "print(a.var())\n",
    "# all the methods  can be used with axis\n"
   ]
  },
  {
   "cell_type": "code",
   "execution_count": 18,
   "metadata": {},
   "outputs": [
    {
     "name": "stdout",
     "output_type": "stream",
     "text": [
      "[[51 13 67 29 51]\n",
      " [43 15 76 16 74]\n",
      " [64 20 33 76 53]\n",
      " [83 44 86 77 74]\n",
      " [76 90 45 31 14]]\n",
      "[[51 43 64 83 76]\n",
      " [13 15 20 44 90]\n",
      " [67 76 33 86 45]\n",
      " [29 16 76 77 31]\n",
      " [51 74 53 74 14]]\n",
      "flattened\n"
     ]
    }
   ],
   "source": [
    "z = np.random.randint(11,99, (5,5))\n",
    "print(z)\n",
    "print(z.transpose())\n",
    "print('flattened')"
   ]
  },
  {
   "cell_type": "code",
   "execution_count": 19,
   "metadata": {},
   "outputs": [
    {
     "name": "stdout",
     "output_type": "stream",
     "text": [
      "[[2, 7], [8, 9]]\n",
      "[[2, 5], [6, 9]]\n"
     ]
    }
   ],
   "source": [
    "a =([[2,7],[8,9]])\n",
    "b = ([[2,5],[6,9]])\n",
    "print(a)\n",
    "print(b)"
   ]
  },
  {
   "cell_type": "code",
   "execution_count": null,
   "metadata": {},
   "outputs": [],
   "source": [
    "print(a + b) \n",
    "print(a - b)\n",
    "print(7 / b)\n",
    "print(a * b)\n",
    "print(a @ b)\n",
    "print(a.dot(b))\n"
   ]
  },
  {
   "cell_type": "code",
   "execution_count": 1,
   "metadata": {},
   "outputs": [
    {
     "ename": "NameError",
     "evalue": "name 'a' is not defined",
     "output_type": "error",
     "traceback": [
      "\u001b[1;31m---------------------------------------------------------------------------\u001b[0m",
      "\u001b[1;31mNameError\u001b[0m                                 Traceback (most recent call last)",
      "Cell \u001b[1;32mIn[1], line 1\u001b[0m\n\u001b[1;32m----> 1\u001b[0m a[\u001b[38;5;241m0\u001b[39m]\n",
      "\u001b[1;31mNameError\u001b[0m: name 'a' is not defined"
     ]
    }
   ],
   "source": [
    "a[0]"
   ]
  },
  {
   "cell_type": "code",
   "execution_count": null,
   "metadata": {},
   "outputs": [],
   "source": [
    "np.eye(5 , dtype=int)"
   ]
  },
  {
   "cell_type": "code",
   "execution_count": null,
   "metadata": {},
   "outputs": [],
   "source": [
    "np.ones((3 ,3 )) #3*3"
   ]
  },
  {
   "cell_type": "code",
   "execution_count": null,
   "metadata": {},
   "outputs": [],
   "source": [
    "np.zeros((3 , 3)) #3*3"
   ]
  },
  {
   "cell_type": "code",
   "execution_count": null,
   "metadata": {},
   "outputs": [],
   "source": [
    "print(np.cos(x))\n",
    "print(np.tan(x))\n",
    "print(np.cosh(x))"
   ]
  },
  {
   "cell_type": "code",
   "execution_count": null,
   "metadata": {},
   "outputs": [],
   "source": []
  },
  {
   "cell_type": "code",
   "execution_count": null,
   "metadata": {},
   "outputs": [],
   "source": [
    "print(sin(x))"
   ]
  },
  {
   "cell_type": "code",
   "execution_count": null,
   "metadata": {},
   "outputs": [],
   "source": []
  },
  {
   "cell_type": "code",
   "execution_count": 14,
   "metadata": {},
   "outputs": [],
   "source": [
    "t = np.arange(-5 , 5 , 0.5)\n",
    "x = np.sin(t)\n",
    "y = np.cos(t)\n"
   ]
  },
  {
   "cell_type": "code",
   "execution_count": null,
   "metadata": {},
   "outputs": [],
   "source": [
    "import matplotlib.pyplot as plt\n",
    "\n",
    "plt.plot(t , x)\n",
    "plt.plot(t , y)"
   ]
  },
  {
   "cell_type": "markdown",
   "metadata": {},
   "source": [
    "visualization"
   ]
  },
  {
   "cell_type": "code",
   "execution_count": 103,
   "metadata": {},
   "outputs": [
    {
     "name": "stderr",
     "output_type": "stream",
     "text": [
      "C:\\Users\\User32\\AppData\\Local\\Temp\\ipykernel_6396\\1993820805.py:10: UserWarning: marker is redundantly defined by the 'marker' keyword argument and the fmt string \"ro--\" (-> marker='o'). The keyword argument will take precedence.\n",
      "  ax.plot(x,y,'ro--',\n",
      "C:\\Users\\User32\\AppData\\Local\\Temp\\ipykernel_6396\\1993820805.py:10: UserWarning: color is redundantly defined by the 'color' keyword argument and the fmt string \"ro--\" (-> color='r'). The keyword argument will take precedence.\n",
      "  ax.plot(x,y,'ro--',\n"
     ]
    },
    {
     "data": {
      "text/plain": [
       "<matplotlib.patches.Rectangle at 0x2997d2b3050>"
      ]
     },
     "execution_count": 103,
     "metadata": {},
     "output_type": "execute_result"
    },
    {
     "data": {
      "image/png": "[encoded data removed]",
      "text/plain": [
       "<Figure size 640x480 with 1 Axes>"
      ]
     },
     "metadata": {},
     "output_type": "display_data"
    }
   ],
   "source": [
    "fig , ax = plt.subplots()\n",
    " \n",
    "fig.set_facecolor('blue')\n",
    "ax.set_facecolor('grey')\n",
    "ax.set_xlabel('HUZAIFA')\n",
    "ax.set_title('sine wave')\n",
    "\n",
    "x =[1,2,3,4,5,6,7,8,9]\n",
    "y = [23,45,33,65,77,55,44,88,90]\n",
    "ax.plot(x,y,'ro--',\n",
    "linewidth =.5,\n",
    "markersize= 10,\n",
    "markerfacecolor='yellow',\n",
    "markeredgewidth=3 ,\n",
    "color= 'green',\n",
    "marker = 'h',\n",
    "alpha = .8)\n",
    "#horizontal line\n",
    "ax.axhline(50 , linewidth = 2 , color='k' , alpha =.4)\n",
    "ax.axvline(3 , linewidth = 2 , color='k' , alpha =.4)\n",
    "ax.text(3.2 , 52 , 'above thereshold')\n",
    "ax.text(3.2 , 46 , 'below threshold')\n",
    "# rectangle box(axyspan , axh)\n",
    "ax.axvspan(3,6, color ='red' , alpha =.2)\n",
    "ax.axvspan(0,3, color ='blue' , alpha =.2)\n",
    "\n",
    "\n",
    "\n",
    "\n"
   ]
  },
  {
   "cell_type": "code",
   "execution_count": null,
   "metadata": {},
   "outputs": [],
   "source": []
  },
  {
   "cell_type": "code",
   "execution_count": 108,
   "metadata": {},
   "outputs": [
    {
     "data": {
      "text/plain": [
       "Text(0.5, 1.0, 'scatter plot')"
      ]
     },
     "execution_count": 108,
     "metadata": {},
     "output_type": "execute_result"
    },
    {
     "data": {
      "image/png": "[encoded data removed]",
      "text/plain": [
       "<Figure size 1500x500 with 2 Axes>"
      ]
     },
     "metadata": {},
     "output_type": "display_data"
    }
   ],
   "source": [
    "fig , (ax1 ,ax2) = plt.subplots(1,2 , figsize=(15,5)) # 1 row , 2 colums\n",
    "x = np.arange(1 , 101)\n",
    "y = np.random.uniform(1, 10, 100)\n",
    "ax.plot(x , y)\n",
    "ax2.scatter(x , y , s= 100, c = 'blue', alpha = .5)\n",
    "ax1.set_title('line plot')\n",
    "ax2.set_title('scatter plot')"
   ]
  }
 ],
 "metadata": {
  "kernelspec": {
   "display_name": "base",
   "language": "python",
   "name": "python3"
  },
  "language_info": {
   "codemirror_mode": {
    "name": "ipython",
    "version": 3
   },
   "file_extension": ".py",
   "mimetype": "text/x-python",
   "name": "python",
   "nbconvert_exporter": "python",
   "pygments_lexer": "ipython3",
   "version": "3.12.4"
  }
 },
 "nbformat": 4,
 "nbformat_minor": 2
}
